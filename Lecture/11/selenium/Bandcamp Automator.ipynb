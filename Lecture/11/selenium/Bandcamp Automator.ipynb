{
 "cells": [
  {
   "cell_type": "code",
   "execution_count": null,
   "id": "b6ca7ee2",
   "metadata": {},
   "outputs": [],
   "source": [
    "from selenium.webdriver import Chrome\n",
    "from selenium.webdriver.chrome.options import Options\n",
    "opts = Options()\n",
    "# opts.headless = True\n",
    "browser = Chrome(\"./chromedriver.exe\", options=opts)\n",
    "browser.get('https://duckduckgo.com')"
   ]
  },
  {
   "cell_type": "code",
   "execution_count": null,
   "id": "b9a113db",
   "metadata": {},
   "outputs": [],
   "source": [
    "search_form = browser.find_element_by_id('search_form_input_homepage')\n",
    "search_form.send_keys('real python')\n",
    "search_form.submit()"
   ]
  },
  {
   "cell_type": "code",
   "execution_count": null,
   "id": "9fc256cf",
   "metadata": {},
   "outputs": [],
   "source": [
    "results = browser.find_elements_by_class_name('results')\n",
    "print(results[0].text)"
   ]
  },
  {
   "cell_type": "code",
   "execution_count": null,
   "id": "12b8dbed",
   "metadata": {},
   "outputs": [],
   "source": [
    "browser.close()"
   ]
  },
  {
   "cell_type": "code",
   "execution_count": null,
   "id": "6dae2172",
   "metadata": {},
   "outputs": [],
   "source": [
    "opts = Options()\n",
    "# opts.headless = True\n",
    "browser = Chrome(options=opts)\n",
    "browser.get('https://bandcamp.com')\n",
    "browser.find_elements_by_class_name('playbutton')[0].click()"
   ]
  },
  {
   "cell_type": "code",
   "execution_count": null,
   "id": "1af46b31",
   "metadata": {},
   "outputs": [],
   "source": [
    "tracks = browser.find_elements_by_class_name('discover-item')\n",
    "len(tracks)\n",
    "tracks[3].click()"
   ]
  },
  {
   "cell_type": "code",
   "execution_count": null,
   "id": "9a30452a",
   "metadata": {},
   "outputs": [],
   "source": [
    "next_button = [e for e in browser.find_elements_by_class_name('item-page')\n",
    "                   if e.text.lower().find('next') > -1]\n",
    "next_button[0].click()"
   ]
  },
  {
   "cell_type": "code",
   "execution_count": null,
   "id": "1ac584ea",
   "metadata": {},
   "outputs": [],
   "source": [
    "tracks = browser.find_elements_by_xpath(\"//div[@class='col col-3-12 discover-item']\")[:8]\n"
   ]
  },
  {
   "cell_type": "markdown",
   "id": "bcaf6da5",
   "metadata": {},
   "source": [
    "## Building a Class"
   ]
  },
  {
   "cell_type": "code",
   "execution_count": 1,
   "id": "5b132758",
   "metadata": {},
   "outputs": [],
   "source": [
    "from selenium.webdriver import Chrome\n",
    "from selenium.webdriver.chrome.options import Options\n",
    "from time import sleep, ctime\n",
    "from collections import namedtuple\n",
    "from threading import Thread\n",
    "from os.path import isfile\n",
    "import csv"
   ]
  },
  {
   "cell_type": "code",
   "execution_count": 2,
   "id": "c34ec14d",
   "metadata": {},
   "outputs": [],
   "source": [
    "TrackRec = namedtuple('TrackRec', [\n",
    "    'title', \n",
    "    'artist',\n",
    "    'artist_url', \n",
    "    'album',\n",
    "    'album_url', \n",
    "    'timestamp'  # When you played it\n",
    "])\n",
    "\n",
    "BANDCAMP_FRONTPAGE='https://bandcamp.com/'\n"
   ]
  },
  {
   "cell_type": "code",
   "execution_count": 3,
   "id": "c291671b",
   "metadata": {},
   "outputs": [],
   "source": [
    "class BandLeader():\n",
    "    def __init__(self, headless=False, csv_path=None):\n",
    "        # Create a headless browser\n",
    "        opts = Options()\n",
    "        opts.headless = headless     \n",
    "        self.browser = Chrome(options=opts)\n",
    "        self.browser.get(BANDCAMP_FRONTPAGE)\n",
    "\n",
    "        # Track list related state\n",
    "        self._current_track_number = 1\n",
    "        self.track_list = []\n",
    "        self.tracks()\n",
    "\n",
    "        # State for the database\n",
    "        self.database = []\n",
    "        if csv_path is not None:\n",
    "            self.database_path = csv_path\n",
    "        else:\n",
    "            self.database_path = \"./database.csv\"\n",
    "        \n",
    "        if isfile(self.database_path):\n",
    "            with open(self.database_path, newline='', encoding='utf-8') as dbfile:\n",
    "                dbreader = csv.reader(dbfile)\n",
    "                next(dbreader)   # To ignore the header line\n",
    "                self.database = [TrackRec._make(rec) for rec in dbreader]\n",
    "        \n",
    "        self._current_track_record = None\n",
    "\n",
    "        # The database maintenance thread\n",
    "        self.thread = Thread(target=self._maintain)\n",
    "        self.thread.daemon = True    # Kills the thread with the main process dies\n",
    "        self.thread.start()\n",
    "\n",
    "        self.tracks()\n",
    "\n",
    "\n",
    "    def _maintain(self):\n",
    "        while True:\n",
    "            self._update_db()\n",
    "            sleep(20)          # Check every 20 seconds\n",
    "\n",
    "\n",
    "    def _update_db(self):\n",
    "        try:\n",
    "            check = (self._current_track_record is not None\n",
    "                     and (len(self.database) == 0\n",
    "                          or self.database[-1] != self._current_track_record)\n",
    "                     and self.is_playing())\n",
    "            if check:\n",
    "                self.database.append(self._current_track_record)\n",
    "                self.save_db()\n",
    "\n",
    "        except Exception as e:\n",
    "            print(f'error while updating the db: {e}')\n",
    "                  \n",
    "                  \n",
    "    def tracks(self):\n",
    "\n",
    "        '''\n",
    "        Query the page to populate a list of available tracks.\n",
    "        '''\n",
    "\n",
    "        # Sleep to give the browser time to render and finish any animations\n",
    "        sleep(2)\n",
    "\n",
    "        # Get the container for the visible track list\n",
    "        discover_section = self.browser.find_element_by_class_name('discover-results')\n",
    "        left_x = discover_section.location['x']\n",
    "        right_x = left_x + discover_section.size['width']\n",
    "\n",
    "        # Filter the items in the list to include only those we can click\n",
    "        discover_items = self.browser.find_elements_by_class_name('discover-item')\n",
    "        self.track_list = [t for t in discover_items\n",
    "                           if t.location['x'] >= left_x and t.location['x'] < right_x]\n",
    "\n",
    "        # Print the available tracks to the screen\n",
    "#         for (i,track) in enumerate(self.track_list):\n",
    "#             print('[{}]'.format(i+1))\n",
    "#             lines = track.text.split('\\n')\n",
    "#             print(f'Album  : {lines[0]}')\n",
    "#             print(f'Artist : {lines[1]}')\n",
    "#             if len(lines) > 2:\n",
    "#                 print(f'Genre  : {lines[2]}')\n",
    "                \n",
    "\n",
    "    def catalogue_pages(self):\n",
    "        '''\n",
    "        Print the available pages in the catalogue that are presently\n",
    "        accessible.\n",
    "        '''\n",
    "        print('PAGES')\n",
    "        for e in self.browser.find_elements_by_class_name('item-page'):\n",
    "            print(e.text)\n",
    "        print('')\n",
    "\n",
    "\n",
    "    def more_tracks(self,page='next'):\n",
    "        '''\n",
    "        Advances the catalogue and repopulates the track list. We can pass in a number\n",
    "        to advance any of the available pages.\n",
    "        '''\n",
    "\n",
    "        next_btn = [e for e in self.browser.find_elements_by_class_name('item-page')\n",
    "                    if e.text.lower().strip() == str(page)]\n",
    "\n",
    "        if next_btn:\n",
    "            next_btn[0].click()\n",
    "            self.tracks()\n",
    "\n",
    "    def play(self,track=None):\n",
    "        '''\n",
    "        Play a track. If no track number is supplied, the presently selected track\n",
    "        will play.\n",
    "        '''\n",
    "\n",
    "        if track is None:\n",
    "            self.browser.find_element_by_class_name('playbutton').click()\n",
    "        elif type(track) is int and track <= len(self.track_list) and track >= 1:\n",
    "            self._current_track_number = track\n",
    "            self.track_list[self._current_track_number - 1].click()\n",
    "\n",
    "        sleep(1)\n",
    "        if self.is_playing():\n",
    "            self._current_track_record = self.currently_playing()\n",
    "            \n",
    "            \n",
    "    def play_next(self):\n",
    "        '''\n",
    "        Plays the next available track\n",
    "        '''\n",
    "        if self._current_track_number < len(self.track_list):\n",
    "            self.play(self._current_track_number+1)\n",
    "        else:\n",
    "            self.more_tracks()\n",
    "            self.play(1)\n",
    "\n",
    "\n",
    "    def pause(self):\n",
    "        '''\n",
    "        Pauses the playback\n",
    "        '''\n",
    "        self.play()\n",
    "    \n",
    "    def is_playing(self):\n",
    "        '''\n",
    "        Returns `True` if a track is presently playing\n",
    "        '''\n",
    "        playbtn = self.browser.find_element_by_class_name('playbutton')\n",
    "        return playbtn.get_attribute('class').find('playing') > -1\n",
    "\n",
    "\n",
    "    def currently_playing(self):\n",
    "        '''\n",
    "        Returns the record for the currently playing track,\n",
    "        or None if nothing is playing\n",
    "        '''\n",
    "        try:\n",
    "            if self.is_playing():\n",
    "                title = self.browser.find_element_by_class_name('title').text\n",
    "                album_detail = self.browser.find_element_by_css_selector('.detail-album > a')\n",
    "                album_title = album_detail.text\n",
    "                album_url = album_detail.get_attribute('href').split('?')[0]\n",
    "                artist_detail = self.browser.find_element_by_css_selector('.detail-artist > a')\n",
    "                artist = artist_detail.text\n",
    "                artist_url = artist_detail.get_attribute('href').split('?')[0]\n",
    "                return TrackRec(title, artist, artist_url, album_title, album_url, ctime())\n",
    "\n",
    "        except Exception as e:\n",
    "            print(f'there was an error: {e}')\n",
    "\n",
    "        return None\n",
    "    \n",
    "    def save_db(self):\n",
    "        with open(self.database_path,'w',newline='', encoding='utf-8') as dbfile:\n",
    "            dbwriter = csv.writer(dbfile)\n",
    "            dbwriter.writerow(list(TrackRec._fields))\n",
    "            for entry in self.database:\n",
    "                dbwriter.writerow(list(entry))\n",
    "\n"
   ]
  },
  {
   "cell_type": "code",
   "execution_count": 4,
   "id": "e5f11265",
   "metadata": {},
   "outputs": [],
   "source": [
    "b = BandLeader()\n"
   ]
  },
  {
   "cell_type": "code",
   "execution_count": 8,
   "id": "02f0181e",
   "metadata": {},
   "outputs": [],
   "source": [
    "b.play()"
   ]
  },
  {
   "cell_type": "code",
   "execution_count": 6,
   "id": "a16e1524",
   "metadata": {},
   "outputs": [],
   "source": [
    "for i in range(10):\n",
    "    b.play_next()\n",
    "    sleep(3)"
   ]
  },
  {
   "cell_type": "code",
   "execution_count": 9,
   "id": "3d72afb5",
   "metadata": {},
   "outputs": [],
   "source": [
    "b.pause()\n",
    "b.save_db()\n",
    "b.browser.close()"
   ]
  },
  {
   "cell_type": "markdown",
   "id": "21153ac0",
   "metadata": {},
   "source": [
    "## Credits"
   ]
  },
  {
   "cell_type": "markdown",
   "id": "e08f42b8",
   "metadata": {},
   "source": [
    "[Modern Web Automation With Python and Selenium](https://realpython.com/modern-web-automation-with-python-and-selenium/)"
   ]
  }
 ],
 "metadata": {
  "kernelspec": {
   "display_name": "Python 3 (ipykernel)",
   "language": "python",
   "name": "python3"
  },
  "language_info": {
   "codemirror_mode": {
    "name": "ipython",
    "version": 3
   },
   "file_extension": ".py",
   "mimetype": "text/x-python",
   "name": "python",
   "nbconvert_exporter": "python",
   "pygments_lexer": "ipython3",
   "version": "3.9.12"
  }
 },
 "nbformat": 4,
 "nbformat_minor": 5
}
