{
  "nbformat": 4,
  "nbformat_minor": 0,
  "metadata": {
    "colab": {
      "provenance": []
    },
    "kernelspec": {
      "name": "python3",
      "display_name": "Python 3"
    },
    "language_info": {
      "name": "python"
    }
  },
  "cells": [
    {
      "cell_type": "markdown",
      "source": [
        "# 11 Python Tricks that makes coding easier.\n",
        "\n",
        "*The text cells support Markdown as well as plain text.*"
      ],
      "metadata": {
        "id": "vStKTf3jaDWS"
      }
    },
    {
      "cell_type": "markdown",
      "source": [
        "## 01 Enumerate\n",
        "If you really want to index a list on which you are executing a for loop, you have enumerate method to make it easier."
      ],
      "metadata": {
        "id": "eGmN3mTcNfVp"
      }
    },
    {
      "cell_type": "code",
      "source": [
        "values = ['a', 'b', 'c']\n",
        "\n",
        "# typical python for loop\n",
        "for v in values:\n",
        "    print(v)"
      ],
      "metadata": {
        "id": "e6XPTohVaO7N",
        "colab": {
          "base_uri": "https://localhost:8080/"
        },
        "outputId": "d7e105a1-fd8d-403e-e013-3b2ec669deab"
      },
      "execution_count": null,
      "outputs": [
        {
          "output_type": "stream",
          "name": "stdout",
          "text": [
            "a\n",
            "b\n",
            "c\n"
          ]
        }
      ]
    },
    {
      "cell_type": "code",
      "source": [
        "# this is not the best way to index the list inside a for loop\n",
        "\n",
        "i = 0\n",
        "for _ in values:\n",
        "    print(i, values[i])\n",
        "    i += 1\n",
        "\n",
        "# Nor this\n",
        "for i in range(len(values)):\n",
        "    print(i, values[i])"
      ],
      "metadata": {
        "colab": {
          "base_uri": "https://localhost:8080/"
        },
        "id": "9axh7vMDOD3M",
        "outputId": "e3e59e88-17ff-4ecf-92c3-7123e3eaec1a"
      },
      "execution_count": null,
      "outputs": [
        {
          "output_type": "stream",
          "name": "stdout",
          "text": [
            "0 a\n",
            "1 b\n",
            "2 c\n",
            "0 a\n",
            "1 b\n",
            "2 c\n"
          ]
        }
      ]
    },
    {
      "cell_type": "code",
      "source": [
        "# instead you can use enumerate()\n",
        "for i, v in enumerate(values):\n",
        "    print(i, v) "
      ],
      "metadata": {
        "colab": {
          "base_uri": "https://localhost:8080/"
        },
        "id": "6rnz6wlO-aQq",
        "outputId": "d403ed86-3d38-435f-f2de-1db7444f8dd9"
      },
      "execution_count": null,
      "outputs": [
        {
          "output_type": "stream",
          "name": "stdout",
          "text": [
            "0 a\n",
            "1 b\n",
            "2 c\n"
          ]
        }
      ]
    },
    {
      "cell_type": "code",
      "source": [
        "# Now write a function using enumerate that takes two arrays with the same length and creates\n",
        "# a paired array as a result. [1, 2, 3], ['a', 'b', 'c'] -> [[1,'a'], [2,'b'], [3,'c']]\n",
        "\n",
        "def zipper(arr1, arr2):\n",
        "    # send error if the arrays don't have the same length\n",
        "    assert len(arr1) == len(arr2)\n",
        "\n",
        "    # create an empty array for the result\n",
        "    res = []\n",
        "    \n",
        "    for i, a1 in enumerate(arr1):\n",
        "        res.append([a1, arr2[i]])\n",
        "    return res\n",
        "\n",
        "array1 = [1,2,3]\n",
        "array2 = ['a', 'b', 'c']\n",
        "print(zipper(array1, array2))"
      ],
      "metadata": {
        "colab": {
          "base_uri": "https://localhost:8080/"
        },
        "id": "fixC5mn1RHVA",
        "outputId": "027a8ab6-4ef1-4760-897c-e746aec441c4"
      },
      "execution_count": null,
      "outputs": [
        {
          "output_type": "stream",
          "name": "stdout",
          "text": [
            "[[1, 'a'], [2, 'b'], [3, 'c']]\n"
          ]
        }
      ]
    },
    {
      "cell_type": "markdown",
      "source": [
        "## 02 Else block\n",
        "As mentioned in the lecture, we can use ```else``` blocks along with many flow control keywords in Python.\n"
      ],
      "metadata": {
        "id": "CESZcl5mPqQc"
      }
    },
    {
      "cell_type": "code",
      "source": [
        "# this method checks if a number is prime\n",
        "def prime(num):\n",
        "    if num > 1:\n",
        "        for i in range(2,num):\n",
        "            if (num % i) == 0:\n",
        "                return False\n",
        "        else:\n",
        "            return True\n",
        "\n",
        "# now write a method that checks if there is any prime numbers in a list\n",
        "def list_prime(arr):\n",
        "    for a in arr:\n",
        "        if prime(a):\n",
        "            return True\n",
        "    else:\n",
        "        return False\n",
        "\n",
        "print(list_prime([4,6,8]))\n"
      ],
      "metadata": {
        "id": "3tbH26OtQj6A",
        "colab": {
          "base_uri": "https://localhost:8080/"
        },
        "outputId": "7ff4d932-e789-4ac4-daa1-82a9e45478f8"
      },
      "execution_count": null,
      "outputs": [
        {
          "output_type": "stream",
          "name": "stdout",
          "text": [
            "False\n"
          ]
        }
      ]
    },
    {
      "cell_type": "markdown",
      "source": [
        "## 03 List comprehensions"
      ],
      "metadata": {
        "id": "ENQy8jezaERE"
      }
    },
    {
      "cell_type": "code",
      "source": [
        "# we can write more compact code using Python list comprehension\n",
        "# let's assume that we want to save the result of an elementwise operation on a list\n",
        "\n",
        "x = [1, 2, 3, 4, 5]\n",
        "print(x)\n",
        "\n",
        "# now we want to store y = x^2 - 3\n",
        "y = [n**2 - 3 for n in x]\n",
        "print(y)"
      ],
      "metadata": {
        "colab": {
          "base_uri": "https://localhost:8080/"
        },
        "id": "8TpjH-dhaC6W",
        "outputId": "89a79364-b75c-42f3-8814-513a66d1ebd4"
      },
      "execution_count": null,
      "outputs": [
        {
          "output_type": "stream",
          "name": "stdout",
          "text": [
            "[1, 2, 3, 4, 5]\n",
            "[-2, 1, 6, 13, 22]\n"
          ]
        }
      ]
    },
    {
      "cell_type": "code",
      "source": [
        "# now define a method that returns the cartesian product of two lists using list comprehension\n",
        "def cart_prod(arr1, arr2):\n",
        "    return [[a, b] for a in arr1 for b in arr2]\n",
        "\n",
        "print(cart_prod([1,2,3], ['a', 'b', 'c', 'd']))"
      ],
      "metadata": {
        "colab": {
          "base_uri": "https://localhost:8080/"
        },
        "id": "SIKmhCHvby6P",
        "outputId": "477e99ab-8983-487e-d383-f833c76bb0d8"
      },
      "execution_count": null,
      "outputs": [
        {
          "output_type": "stream",
          "name": "stdout",
          "text": [
            "[[1, 'a'], [1, 'b'], [1, 'c'], [1, 'd'], [2, 'a'], [2, 'b'], [2, 'c'], [2, 'd'], [3, 'a'], [3, 'b'], [3, 'c'], [3, 'd']]\n"
          ]
        }
      ]
    },
    {
      "cell_type": "markdown",
      "source": [
        "## 04 Formatted Strings\n",
        "There are multiple ways to inject your variables inside a python string but here is the most straight forward one. You should put an ```f``` character before starting your string, and put your variables inside ```{}```."
      ],
      "metadata": {
        "id": "FQm_cVW0c41d"
      }
    },
    {
      "cell_type": "code",
      "source": [
        "fname, lname = 'Mohammad', 'Heydari'\n",
        "print(f'My first name is:{fname}, and my last name is:{lname}.')"
      ],
      "metadata": {
        "colab": {
          "base_uri": "https://localhost:8080/"
        },
        "id": "WVdT4LR7dSaD",
        "outputId": "7f3d80f3-3100-429b-f81d-7b13c3e64d3e"
      },
      "execution_count": null,
      "outputs": [
        {
          "output_type": "stream",
          "name": "stdout",
          "text": [
            "My first name is:Mohammad, and my last name is:Heydari.\n"
          ]
        }
      ]
    },
    {
      "cell_type": "code",
      "source": [
        "# now define a function that takes a dictionary schedule and prints it properly.\n",
        "# here is a sample schedule\n",
        "schedule = {\"laundry\": 50, \"study\": 120, \"dinner\": 30}\n",
        "\n",
        "def print_schedule(dict1):\n",
        "    for k, v in dict1.items():\n",
        "        print(f'activity {k}, takes: {v} minutes.')\n",
        "        \n",
        "print_schedule(schedule)"
      ],
      "metadata": {
        "colab": {
          "base_uri": "https://localhost:8080/"
        },
        "id": "VloAAn0OeDlM",
        "outputId": "6eebacc8-ba0d-4404-b1cf-7404087a49b3"
      },
      "execution_count": null,
      "outputs": [
        {
          "output_type": "stream",
          "name": "stdout",
          "text": [
            "activity laundry, takes: 50 minutes.\n",
            "activity study, takes: 120 minutes.\n",
            "activity dinner, takes: 30 minutes.\n"
          ]
        }
      ]
    },
    {
      "cell_type": "markdown",
      "source": [
        "## 05 Itertools\n",
        "```Itertools``` is a library available in any Python installation providing you with functions for efficient looping.\n",
        "[documentation](https://docs.python.org/3/library/itertools.html)"
      ],
      "metadata": {
        "id": "euuRRRuigQLJ"
      }
    },
    {
      "cell_type": "code",
      "source": [
        "import itertools\n",
        "\n",
        "for a, b in itertools.product(['a', 'b', 'c'], range(1,5)):\n",
        "    print(f'{{{a}, {b}}}')"
      ],
      "metadata": {
        "colab": {
          "base_uri": "https://localhost:8080/"
        },
        "id": "67Xl15gugg7D",
        "outputId": "a320c129-23e2-4ef3-f94a-d3231fc4aaf2"
      },
      "execution_count": null,
      "outputs": [
        {
          "output_type": "stream",
          "name": "stdout",
          "text": [
            "{a, 1}\n",
            "{a, 2}\n",
            "{a, 3}\n",
            "{a, 4}\n",
            "{b, 1}\n",
            "{b, 2}\n",
            "{b, 3}\n",
            "{b, 4}\n",
            "{c, 1}\n",
            "{c, 2}\n",
            "{c, 3}\n",
            "{c, 4}\n"
          ]
        }
      ]
    },
    {
      "cell_type": "code",
      "source": [
        "import itertools\n",
        "\n",
        "# now write a method to extract the all of the possible DNA strings with length n\n",
        "# product method has a 'repeat' argument that controls the length of the output\n",
        "# dna chains are shown using A,T,C,or G characters.\n",
        "# for instance AACTCGAG is a dna string with length 8.\n",
        "\n",
        "def dna_counter(n):\n",
        "    for dna in itertools.product('ATCG', repeat=n):\n",
        "        print(dna)\n",
        "\n",
        "dna_counter(2)"
      ],
      "metadata": {
        "colab": {
          "base_uri": "https://localhost:8080/"
        },
        "id": "mVtD6uHUhgiC",
        "outputId": "a4adfb49-94c9-4313-d041-7a51c34b88d3"
      },
      "execution_count": null,
      "outputs": [
        {
          "output_type": "stream",
          "name": "stdout",
          "text": [
            "('A', 'A')\n",
            "('A', 'T')\n",
            "('A', 'C')\n",
            "('A', 'G')\n",
            "('T', 'A')\n",
            "('T', 'T')\n",
            "('T', 'C')\n",
            "('T', 'G')\n",
            "('C', 'A')\n",
            "('C', 'T')\n",
            "('C', 'C')\n",
            "('C', 'G')\n",
            "('G', 'A')\n",
            "('G', 'T')\n",
            "('G', 'C')\n",
            "('G', 'G')\n"
          ]
        }
      ]
    },
    {
      "cell_type": "markdown",
      "source": [
        "## 06 One-liner if else\n",
        "You can use mini conditional statement to initiate your variables or execute other functions."
      ],
      "metadata": {
        "id": "RsIfY90cmj5l"
      }
    },
    {
      "cell_type": "code",
      "source": [
        "age = 45\n",
        "if age>40:\n",
        "    print('old')\n",
        "else:\n",
        "    print('young')"
      ],
      "metadata": {
        "colab": {
          "base_uri": "https://localhost:8080/"
        },
        "id": "4fk4Xb8xm2Cz",
        "outputId": "17918fb2-99b7-4b78-f9f2-238cb79082e6"
      },
      "execution_count": null,
      "outputs": [
        {
          "output_type": "stream",
          "name": "stdout",
          "text": [
            "old\n"
          ]
        }
      ]
    },
    {
      "cell_type": "code",
      "source": [
        "age = 45\n",
        "print('old' if age>40 else 'young')"
      ],
      "metadata": {
        "colab": {
          "base_uri": "https://localhost:8080/"
        },
        "id": "rSnfuhthnVyH",
        "outputId": "01fde5be-956d-4945-bfb9-11f1d0dfb29f"
      },
      "execution_count": null,
      "outputs": [
        {
          "output_type": "stream",
          "name": "stdout",
          "text": [
            "old\n"
          ]
        }
      ]
    },
    {
      "cell_type": "code",
      "source": [
        "import random\n",
        "# random.random() gives you a random value between [0, 1).\n",
        "# use this to initiate your variable x with 0 if the random value is smaller than 0.2\n",
        "# or 1 otherwise.\n",
        "x = 0 if random.random()<0.2 else 1\n",
        "print(x)"
      ],
      "metadata": {
        "colab": {
          "base_uri": "https://localhost:8080/"
        },
        "id": "_sFQ7ryPo0oU",
        "outputId": "ce33a5b9-308c-4e90-c115-6ac83f3f94cc"
      },
      "execution_count": null,
      "outputs": [
        {
          "output_type": "stream",
          "name": "stdout",
          "text": [
            "1\n"
          ]
        }
      ]
    },
    {
      "cell_type": "markdown",
      "source": [
        "## 07 Pathlib\n",
        "Pathlibs enables us to find the current directory when executing our code. It does not depend on the OS or the libraries you have installed on your python distribution."
      ],
      "metadata": {
        "id": "HsObGxxVpJXw"
      }
    },
    {
      "cell_type": "code",
      "source": [
        "import pathlib\n",
        "print(f'currnet working directory: {pathlib.Path.cwd()}')\n"
      ],
      "metadata": {
        "colab": {
          "base_uri": "https://localhost:8080/"
        },
        "id": "jRVNAGw7p-KM",
        "outputId": "22837eef-054c-437a-9d63-68fce01e5650"
      },
      "execution_count": null,
      "outputs": [
        {
          "output_type": "stream",
          "name": "stdout",
          "text": [
            "currnet working directory: /content\n"
          ]
        }
      ]
    },
    {
      "cell_type": "code",
      "source": [
        "# using pathlib you can find out if a path is pointing to a director or a file.\n",
        "# write a code using pathlib.Path.is_dir to verify that\n",
        "# your current working directory is actually a folder \n",
        "\n",
        "pathlib.Path.is_dir(pathlib.Path.cwd())"
      ],
      "metadata": {
        "colab": {
          "base_uri": "https://localhost:8080/"
        },
        "id": "C82fZ0y3qVQs",
        "outputId": "86a0471f-4dfb-49b3-cabc-f6e57ba0f30a"
      },
      "execution_count": null,
      "outputs": [
        {
          "output_type": "execute_result",
          "data": {
            "text/plain": [
              "True"
            ]
          },
          "metadata": {},
          "execution_count": 16
        }
      ]
    },
    {
      "cell_type": "markdown",
      "source": [
        "## 08 Decorators (Wrapper Functions)\n",
        "It is one of the most powerful tools of Python programming specifically in Django.\n",
        "Most of the time we just use predefined decorators but it is beneficial to know how to implement one. Decorators are functions that take another function as an input, consider it as a black box and add more functionality to it."
      ],
      "metadata": {
        "id": "8vvEwc8fzpLr"
      }
    },
    {
      "cell_type": "code",
      "source": [
        "# we want to write a decorator that makes its following function to run twice\n",
        "def do_twice(func):\n",
        "    def wrapper_func():\n",
        "        func()\n",
        "        func()\n",
        "    return wrapper_func\n",
        "\n",
        "# now this is the way to use a decorator:\n",
        "@do_twice\n",
        "def pr_name():\n",
        "    print('Hey, Mohammad!')\n",
        "\n",
        "# interpret the code above as this:\n",
        "# pr_name = do_twice(pr_name)\n",
        "# now we only have to call the function being wrapped once:\n",
        "pr_name()"
      ],
      "metadata": {
        "id": "9CXnMV6brE2B",
        "colab": {
          "base_uri": "https://localhost:8080/"
        },
        "outputId": "03d0c1e3-3428-463e-8998-685bda4e13dd"
      },
      "execution_count": null,
      "outputs": [
        {
          "output_type": "stream",
          "name": "stdout",
          "text": [
            "Hey, Mohammad!\n",
            "Hey, Mohammad!\n"
          ]
        }
      ]
    },
    {
      "cell_type": "code",
      "source": [
        "# now let's write a decorator to report excution time \n",
        "import time\n",
        "\n",
        "# time.time() returns the current system time and you have to substract its\n",
        "# value in the beginning of a process from its value in the end of a process\n",
        "\n",
        "def time_takes(func):\n",
        "\n",
        "# *args and **kwargs passes every arguments from the original \n",
        "# function to the wrapped one\n",
        "    def wrap(*args, **kwargs):\n",
        "        start = time.time()\n",
        "        result = func(*args, **kwargs)\n",
        "        end = time.time()\n",
        "          \n",
        "        print(f'{func.__name__}, takes {end-start} seconds.')\n",
        "        return result\n",
        "    return wrap\n",
        "\n",
        "@time_takes\n",
        "def lazy():\n",
        "    for _ in range(3):\n",
        "        time.sleep(1)\n",
        "\n",
        "lazy()"
      ],
      "metadata": {
        "colab": {
          "base_uri": "https://localhost:8080/"
        },
        "id": "5wAO9IqB17r1",
        "outputId": "a9bcfac7-e3cb-4dec-e912-7a5bf8b3a54b"
      },
      "execution_count": null,
      "outputs": [
        {
          "output_type": "stream",
          "name": "stdout",
          "text": [
            "lazy, takes 3.0032331943511963 seconds.\n"
          ]
        }
      ]
    },
    {
      "cell_type": "markdown",
      "source": [
        "The last three tricks help us work with lists without iterating over them."
      ],
      "metadata": {
        "id": "PJjJy2VCGHgt"
      }
    },
    {
      "cell_type": "markdown",
      "source": [
        "## 09 Map\n",
        "map takes a function and a list as its arguments. Then executes the function on each list element."
      ],
      "metadata": {
        "id": "S4HihT3F6nug"
      }
    },
    {
      "cell_type": "code",
      "source": [
        "# let's write a map to extract the length of each elements in a list of strings\n",
        "array = ['hello', 'world', 'bit2008']\n",
        "lengths = map(len, array)\n",
        "print(list(lengths))"
      ],
      "metadata": {
        "colab": {
          "base_uri": "https://localhost:8080/"
        },
        "id": "ZeeBjmL29RAU",
        "outputId": "18340fbd-c8b8-4da1-a6dc-f8c88563f03c"
      },
      "execution_count": null,
      "outputs": [
        {
          "output_type": "stream",
          "name": "stdout",
          "text": [
            "[5, 5, 7]\n"
          ]
        }
      ]
    },
    {
      "cell_type": "code",
      "source": [
        "# let's write another map to calculate the elementwise sum of two arrays\n",
        "arr1 = [1, 3, 12, -9, 4, -5, 8]\n",
        "arr2 = [3, -4, 5, -6, 7, -9, 8]\n",
        "\n",
        "def sum(a, b):\n",
        "    return a+b\n",
        "\n",
        "y = map(sum, arr1, arr2)\n",
        "print(list(y))\n"
      ],
      "metadata": {
        "colab": {
          "base_uri": "https://localhost:8080/"
        },
        "id": "ITIA-CpfARPW",
        "outputId": "b140c68c-4dae-4c5c-fc1b-fbafa1c7f439"
      },
      "execution_count": null,
      "outputs": [
        {
          "output_type": "stream",
          "name": "stdout",
          "text": [
            "[4, -1, 17, -15, 11, -14, 16]\n"
          ]
        }
      ]
    },
    {
      "cell_type": "markdown",
      "source": [
        "## 10 Filter\n",
        "similar to ```map```, filter takes a function to pass some of the elements of its other argument which is a list and remove the rest."
      ],
      "metadata": {
        "id": "Y7zHrvu9FF2i"
      }
    },
    {
      "cell_type": "code",
      "source": [
        "# lets write a filter map that removes frequencies below 100 Hz\n",
        "freqs = [10, 120, 125, 230, 80, 150, 70]\n",
        "passed = filter(lambda x: True if x>100 else False, freqs)\n",
        "print(list(passed))"
      ],
      "metadata": {
        "colab": {
          "base_uri": "https://localhost:8080/"
        },
        "id": "g-NEqp6B41Yd",
        "outputId": "a4b2b889-a21e-4ba9-8af7-ded55959199a"
      },
      "execution_count": null,
      "outputs": [
        {
          "output_type": "stream",
          "name": "stdout",
          "text": [
            "[120, 125, 230, 150]\n"
          ]
        }
      ]
    },
    {
      "cell_type": "markdown",
      "source": [
        "## 11 Zip\n",
        "Zip matches the corresponding elements of multiple lists together.\n"
      ],
      "metadata": {
        "id": "0U7lJ-9ILolC"
      }
    },
    {
      "cell_type": "code",
      "source": [
        "id = (1,2,3,4,5,6)\n",
        "name = ('Alex', 'Joe', 'Mika')\n",
        "major = ('Music', 'Comp Sci', 'IT')\n",
        "res = zip(id, name, major)\n",
        "print(list(res))"
      ],
      "metadata": {
        "colab": {
          "base_uri": "https://localhost:8080/"
        },
        "id": "FUi_Ptb1MW8T",
        "outputId": "9939d16c-228a-43b6-8650-3678a1d4bd79"
      },
      "execution_count": null,
      "outputs": [
        {
          "output_type": "stream",
          "name": "stdout",
          "text": [
            "[(1, 'Alex', 'Music'), (2, 'Joe', 'Comp Sci'), (3, 'Mika', 'IT')]\n"
          ]
        }
      ]
    },
    {
      "cell_type": "markdown",
      "source": [
        "## References\n",
        "\n",
        "[An overview of 10+1 Python features that only advanced programmers use](https://youtu.be/WYPNSJP6qc4)"
      ],
      "metadata": {
        "id": "cYCNsT45YHFw"
      }
    }
  ]
}